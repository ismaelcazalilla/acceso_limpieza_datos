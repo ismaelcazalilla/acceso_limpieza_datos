{
 "cells": [
  {
   "cell_type": "markdown",
   "id": "2b44a8c9",
   "metadata": {},
   "source": [
    "# Limpieza de datos."
   ]
  },
  {
   "cell_type": "markdown",
   "id": "3bc4407b",
   "metadata": {},
   "source": [
    "Importación de paquetes y lectura de datos."
   ]
  },
  {
   "cell_type": "code",
   "execution_count": null,
   "id": "9a6598e2",
   "metadata": {},
   "outputs": [],
   "source": [
    "import pandas as pd\n",
    "\n",
    "invoices_df = pd.read_csv('../data/ecommerce.csv')\n",
    "invoices_df.head()"
   ]
  },
  {
   "cell_type": "markdown",
   "id": "cabc4292",
   "metadata": {},
   "source": [
    "## 1. Visión general del dataset."
   ]
  },
  {
   "cell_type": "markdown",
   "id": "778686b1",
   "metadata": {},
   "source": [
    "En esta fase queremos conocer a nivel general aspectos como:\n",
    "* Tamaño del dataset.\n",
    "* Número de filas.\n",
    "* Número de columnas.\n",
    "* Nombre de columnas.\n",
    "* Tipo de datos de las columnas."
   ]
  },
  {
   "cell_type": "markdown",
   "id": "050201c3",
   "metadata": {},
   "source": [
    "### 1.1. Tamaño del dataset.\n",
    "Para revisar el tampo del dataset y alguna información básica, como el tipo de dato inicial de la columna, podemos usar el método ```info()```\n",
    "\n",
    "https://pandas.pydata.org/docs/reference/api/pandas.DataFrame.info.html\n",
    "\n",
    "Si usamos ```memory_usage='deep'``` facilitará el tamaño de memoria real en lugar de una estimación"
   ]
  },
  {
   "cell_type": "code",
   "execution_count": null,
   "id": "ca1e893a",
   "metadata": {},
   "outputs": [],
   "source": [
    "invoices_df.info(memory_usage = 'deep')"
   ]
  },
  {
   "cell_type": "markdown",
   "id": "0e58c1fc",
   "metadata": {},
   "source": [
    "### 1.2. Número de filas y columnas.\n",
    "\n",
    "A la hora de conocer el número de filas y columnas usaremos ```shape```. El primer valor es el número de filas y el segundo el de columnas\n",
    "\n",
    "https://pandas.pydata.org/docs/reference/api/pandas.DataFrame.shape.html"
   ]
  },
  {
   "cell_type": "code",
   "execution_count": null,
   "id": "16e72789",
   "metadata": {},
   "outputs": [],
   "source": [
    "# Número de filas y columnas\n",
    "invoices_df.shape"
   ]
  },
  {
   "cell_type": "markdown",
   "id": "4715fb13",
   "metadata": {},
   "source": [
    "### 1.3. Nombre de columnas.\n",
    "Usaremos ```columns``` que nos devolverá los nombres de columnas como una lista de índices. Para facilitar su visionado podemos usar ```to_list()```.\n",
    "\n",
    "https://pandas.pydata.org/docs/reference/api/pandas.DataFrame.columns.html\n",
    "\n",
    "https://pandas.pydata.org/docs/reference/api/pandas.Index.to_list.html#pandas.Index.to_list\n"
   ]
  },
  {
   "cell_type": "code",
   "execution_count": null,
   "id": "17ef13b1",
   "metadata": {},
   "outputs": [],
   "source": [
    "invoices_df.columns.to_list()"
   ]
  },
  {
   "cell_type": "markdown",
   "id": "fb90f8b7",
   "metadata": {},
   "source": [
    "### 1.4. Tipos de datos de las columnas.\n",
    "\n",
    "Con el atributo ```dtypes``` podemos listar esta información\n",
    "\n",
    "https://pandas.pydata.org/docs/reference/api/pandas.DataFrame.dtypes.html\n",
    "\n",
    "Los tipos de datos de columnas pueden ser:\n",
    "* **object**: objetos incluidos strings.\n",
    "* **int64**: números enteros.\n",
    "* **floa64**: números decimales.\n",
    "* **bool**: True/False.\n",
    "* **datetime64**: Valores temporales y de fechas.\n",
    "* **category**: Lista finita de valores en texto\n"
   ]
  },
  {
   "cell_type": "code",
   "execution_count": null,
   "id": "23d59e3a",
   "metadata": {},
   "outputs": [],
   "source": [
    "invoices_df.dtypes"
   ]
  },
  {
   "cell_type": "markdown",
   "id": "ae02299f",
   "metadata": {},
   "source": [
    "Al revisar el tipo de datos y los nombres de las columnas podemos encontrar problemas de calidad de datos. \n",
    "En el ejemplo vemos como la columna ```CustomerID``` está reconocida como un decimal cuando se trata de una cadena de caracteres que representa un id de usuario."
   ]
  },
  {
   "cell_type": "markdown",
   "id": "cd4b2c60",
   "metadata": {},
   "source": [
    "## 2. Renombrado de columnas."
   ]
  },
  {
   "cell_type": "markdown",
   "id": "0f5534dd",
   "metadata": {},
   "source": [
    "#### 2.1. Identificación."
   ]
  },
  {
   "cell_type": "code",
   "execution_count": null,
   "id": "920d7d2f",
   "metadata": {},
   "outputs": [],
   "source": [
    "invoices_df.columns.to_list()"
   ]
  },
  {
   "cell_type": "markdown",
   "id": "6c44eb28",
   "metadata": {},
   "source": [
    "#### 2.2. Corrección."
   ]
  },
  {
   "cell_type": "code",
   "execution_count": null,
   "id": "f2390b06",
   "metadata": {},
   "outputs": [],
   "source": [
    "invoice_df_col_names = [\n",
    "    'invoice',\n",
    "    'stock_code',\n",
    "    'description',\n",
    "    'quantity',\n",
    "    'invoice_date',\n",
    "    'unit_ price',\n",
    "    'customer_id',\n",
    "    'country'\n",
    "]\n",
    "\n",
    "invoices_df.columns = invoice_df_col_names\n",
    "invoices_df.columns.to_list()"
   ]
  },
  {
   "cell_type": "markdown",
   "id": "b5af5d8e",
   "metadata": {},
   "source": [
    "## 3. Conversión de tipos de datos."
   ]
  },
  {
   "cell_type": "markdown",
   "id": "a651b0fc",
   "metadata": {},
   "source": [
    "#### 3.1. Identificación."
   ]
  },
  {
   "cell_type": "markdown",
   "id": "2fb42946",
   "metadata": {},
   "source": [
    "Para listar el tipo de datos de cada columna utilizaremos ```dtypes```.\n",
    "\n",
    "https://pandas.pydata.org/docs/reference/api/pandas.DataFrame.dtypes.html"
   ]
  },
  {
   "cell_type": "code",
   "execution_count": null,
   "id": "11292b60",
   "metadata": {},
   "outputs": [],
   "source": [
    "print(invoices_df.dtypes)\n",
    "invoices_df.head()"
   ]
  },
  {
   "cell_type": "markdown",
   "id": "c20a44ef",
   "metadata": {},
   "source": [
    "#### 3.2. Corrección."
   ]
  },
  {
   "cell_type": "markdown",
   "id": "09f572b3",
   "metadata": {},
   "source": [
    "Para realizar conversión de datos por columnas de un dataframe usaremos ```astype```.\n",
    "\n",
    "https://pandas.pydata.org/docs/reference/api/pandas.DataFrame.astype.html#pandas.DataFrame.astype"
   ]
  },
  {
   "cell_type": "code",
   "execution_count": null,
   "id": "c87f9284",
   "metadata": {},
   "outputs": [],
   "source": [
    "fixed_types = {\n",
    "    'quantity': 'int',\n",
    "    'invoice_date': 'datetime64[ns]',\n",
    "    'customer_id': 'object'\n",
    "}\n",
    "\n",
    "#invoices_df_test = invoices_df.astype(fixed_types)\n",
    "\n",
    "#print(invoices_df_test.dtypes)\n",
    "#invoices_df_test.head()"
   ]
  },
  {
   "cell_type": "code",
   "execution_count": null,
   "id": "36b9b6ab",
   "metadata": {},
   "outputs": [],
   "source": [
    "# En el caso de tener nulos en la columnas nos dará error al utilizar el tipo 'int'\n",
    "#invoices_df['customer_id'] = invoices_df['customer_id'].astype('int').astype('object')"
   ]
  },
  {
   "cell_type": "code",
   "execution_count": null,
   "id": "6103642a",
   "metadata": {},
   "outputs": [],
   "source": [
    "# Para evitar este problema utilizaremos el tipo 'Int64'\n",
    "invoices_df['customer_id'] = invoices_df['customer_id'].astype('Int64').astype('object')\n",
    "\n",
    "print(invoices_df.dtypes)\n",
    "invoices_df.head()"
   ]
  },
  {
   "cell_type": "markdown",
   "id": "31efd0a0",
   "metadata": {},
   "source": [
    "## 4. Manejo de nulos."
   ]
  },
  {
   "cell_type": "markdown",
   "id": "8e235c67",
   "metadata": {},
   "source": [
    "Uno de los problemas que podemos encontrar en los datos es la falta de información. Podemos encontrar registros con todos los campos nulos, o en columnas claves para nuestro análisis.\n",
    "\n",
    "Por ello es importante conocer la cantidad de nulos por columna, tanto en valor absoluto como relativo, dentro de nuestro dataset."
   ]
  },
  {
   "cell_type": "markdown",
   "id": "48e51e2b",
   "metadata": {},
   "source": [
    "#### 4.1. Identificación de la cantidad absoluta de nulos."
   ]
  },
  {
   "cell_type": "markdown",
   "id": "3e3666f1",
   "metadata": {},
   "source": [
    "Utilizaremos el método ```ìsna()``` de los dataframes de Pandas para identificar en qué posiciones los valores de cada registro son nulos.\n",
    "\n",
    "https://pandas.pydata.org/docs/reference/api/pandas.DataFrame.isna.html#pandas.DataFrame.isna"
   ]
  },
  {
   "cell_type": "code",
   "execution_count": null,
   "id": "f30490a6",
   "metadata": {},
   "outputs": [],
   "source": [
    "invoices_df.isna()"
   ]
  },
  {
   "cell_type": "markdown",
   "id": "5475751b",
   "metadata": {},
   "source": [
    "A continuación podemos utilizar el método ```sum()``` para conocer el total de nulos.\n",
    "\n",
    "https://pandas.pydata.org/docs/reference/api/pandas.DataFrame.sum.html"
   ]
  },
  {
   "cell_type": "code",
   "execution_count": null,
   "id": "a464abd9",
   "metadata": {},
   "outputs": [],
   "source": [
    "invoices_df.isna().sum()"
   ]
  },
  {
   "cell_type": "markdown",
   "id": "aca18e5b",
   "metadata": {},
   "source": [
    "#### 4.2. Identificación de la cantidad relativa (porcentaje) de nulos."
   ]
  },
  {
   "cell_type": "markdown",
   "id": "4a60f649",
   "metadata": {},
   "source": [
    "Utilizaremos de nuevo ```isna()``` para generar la matriz de nulos. En lugar de ```sum()``` utilizaremos ```mean()``` para calcular la media en este caso.\n",
    "\n",
    "https://pandas.pydata.org/docs/reference/api/pandas.DataFrame.mean.html\n",
    "\n",
    "Esta media nos dará el tanto por 1 de valores nulos con respecto a todos los registros del dataset. Al quererlo en porcentaje lo multiplicaremos por 100.\n",
    "\n",
    "Finalmente utilizaremos ```sort_values()``` para ordenar nuestra lista de variables. Este punto es muy útil cuando tenemos un volumen grande de columnas y queremos destacar aquellas con mayor porcentaje de nulos.\n",
    "\n",
    "https://pandas.pydata.org/docs/reference/api/pandas.DataFrame.sort_values.html#pandas.DataFrame.sort_values"
   ]
  },
  {
   "cell_type": "code",
   "execution_count": null,
   "id": "bc37caee",
   "metadata": {},
   "outputs": [],
   "source": [
    "invoices_df.isna().mean().sort_values(ascending=False) * 100"
   ]
  },
  {
   "cell_type": "markdown",
   "id": "9b233b56",
   "metadata": {},
   "source": [
    "#### 4.3. Corrección de columnas con todos los valores nulos."
   ]
  },
  {
   "cell_type": "markdown",
   "id": "5aca1a84",
   "metadata": {},
   "source": [
    "Para eliminar registros o columnas con valores nulos se utiliza el método ```dropna()```.\n",
    "\n",
    "https://pandas.pydata.org/docs/reference/api/pandas.DataFrame.dropna.html\n",
    "\n",
    "Parámetros más importantes:\n",
    "\n",
    "* **axis**: Si es 0 o index elimina los registros con nulos. Si es 1 o columns las variables.\n",
    "* **how**: por defecto 'any' que elimina todo el registro o columna simplemente con que haya un nulo. Se puede poner a 'all' que lo eliminará solo si está totalmente a nulos\n",
    "* **subset**: si queremos eliminar solo los nulos en algunas variables"
   ]
  },
  {
   "cell_type": "markdown",
   "id": "3d67d8c9",
   "metadata": {},
   "source": [
    "Para borrar columnas en la que todos sus valores sean nulos se utilizará el parámetro ```axis=1```. Es importante especificar también en el argumento ```how``` el valor 'all'. En caso contrario eliminará cualquier columna en la que haya, al menos, un registro nulo."
   ]
  },
  {
   "cell_type": "code",
   "execution_count": null,
   "id": "5cdd4a40",
   "metadata": {},
   "outputs": [],
   "source": [
    "# Creación de una columna con todos los valores a null\n",
    "invoices_df['null_column'] = None\n",
    "invoices_df.head()"
   ]
  },
  {
   "cell_type": "code",
   "execution_count": null,
   "id": "ed6fe9c3",
   "metadata": {},
   "outputs": [],
   "source": [
    "# Borrado de la columna\n",
    "invoices_df = invoices_df.dropna(axis=1, how='all')\n",
    "invoices_df.head()"
   ]
  },
  {
   "cell_type": "markdown",
   "id": "510457e3",
   "metadata": {},
   "source": [
    "#### 4.4. Corrección de filas con registros nulos."
   ]
  },
  {
   "cell_type": "markdown",
   "id": "5df33f76",
   "metadata": {},
   "source": [
    "En el caso de las filas utilizaremos el parámetro ```axis``` con el valor 0. Igualmente tendremos en cuenta el valor del parámetro ```how```."
   ]
  },
  {
   "cell_type": "code",
   "execution_count": null,
   "id": "6be7d8b3",
   "metadata": {},
   "outputs": [],
   "source": [
    "# Se añadieron filas nulas al final del dataset para este punto\n",
    "invoices_df.tail()"
   ]
  },
  {
   "cell_type": "code",
   "execution_count": null,
   "id": "bee6e815",
   "metadata": {},
   "outputs": [],
   "source": [
    "# Borramos la fila con todos los valores nulos\n",
    "invoices_df = invoices_df.dropna(axis=0, how='all')\n",
    "invoices_df.tail()"
   ]
  },
  {
   "cell_type": "markdown",
   "id": "c8c5495d",
   "metadata": {},
   "source": [
    "En ocasiones podremos considerar un registro o fila nulo en el caso de que una o varias de sus columnas tengan valores nulos. Para especificar estas columnas se utiliza el atributo ```subset```.\n",
    "\n",
    "Para este ejemplo vamos a considerar que, aquellas filas que no tienen número de factura y el códigod de stock, se consideran registros nulos."
   ]
  },
  {
   "cell_type": "code",
   "execution_count": null,
   "id": "7f4a3f83",
   "metadata": {},
   "outputs": [],
   "source": [
    "# Creamos una fila con invoice y customer_id nulos. \n",
    "null_row_data = {\n",
    "    'invoice': None,\n",
    "    'stock_code': None,\n",
    "    'description': 'PACK OF 20 SPACEBOY NAPKINS',\n",
    "    'quantity': 4,\n",
    "    'invoice_date': '12/9/2011 12:50',\n",
    "    'unit_ price': 0.85,\n",
    "    'customer_id': 12680,\n",
    "    'country': 'France'\n",
    "}\n",
    "\n",
    "invoice_customer_null_row = pd.Series(data=null_row_data, index=invoice_df_col_names)\n",
    "\n",
    "invoices_df.loc[len(invoices_df.index)] = invoice_customer_null_row\n",
    "invoices_df.tail()"
   ]
  },
  {
   "cell_type": "code",
   "execution_count": null,
   "id": "b4822cac",
   "metadata": {},
   "outputs": [],
   "source": [
    "# Definimos el subset de variables a tener en cuenta para considerar un registro nulo y eliminamos.\n",
    "subset_cols = ['invoice', 'stock_code']\n",
    "\n",
    "invoices_df = invoices_df.dropna(axis=0, subset=subset_cols)\n",
    "invoices_df.tail()"
   ]
  },
  {
   "cell_type": "markdown",
   "id": "44508c44",
   "metadata": {},
   "source": [
    "## 5. Manejo de duplicados."
   ]
  },
  {
   "cell_type": "markdown",
   "id": "fb5f2ea8",
   "metadata": {},
   "source": [
    "#### 5.1. Identificación."
   ]
  },
  {
   "cell_type": "markdown",
   "id": "9fff64c5",
   "metadata": {},
   "source": [
    "Para identificar los registros duplicados utilizaremos el método ```duplicated()```.\n",
    "\n",
    "https://pandas.pydata.org/docs/reference/api/pandas.DataFrame.duplicated.html\n",
    "\n",
    "\n",
    "Utilizando de nuevo el método ```sum()``` podremos cuantificar el número total de registros duplicados."
   ]
  },
  {
   "cell_type": "code",
   "execution_count": null,
   "id": "939d7cab",
   "metadata": {},
   "outputs": [],
   "source": [
    "invoices_df.duplicated().sum()"
   ]
  },
  {
   "cell_type": "markdown",
   "id": "41357cbf",
   "metadata": {},
   "source": [
    "En el caso de que se quiera visualizar el tipo de registros duplicados podemos utilizar el argumento ```keep```, de modo que nos mantenga todos los registros duplicados excepto la primera ocurrencia del mismo."
   ]
  },
  {
   "cell_type": "code",
   "execution_count": null,
   "id": "016a6569",
   "metadata": {},
   "outputs": [],
   "source": [
    "invoices_df[invoices_df.duplicated(keep=False)]"
   ]
  },
  {
   "cell_type": "markdown",
   "id": "a20e6133",
   "metadata": {},
   "source": [
    "#### 5.2. Corrección."
   ]
  },
  {
   "cell_type": "markdown",
   "id": "fcc20213",
   "metadata": {},
   "source": [
    "Para eliminar los registros duplicados utilizaremos el método ```drop_duplicates()```.\n",
    "\n",
    "https://pandas.pydata.org/docs/reference/api/pandas.DataFrame.drop_duplicates.html"
   ]
  },
  {
   "cell_type": "code",
   "execution_count": null,
   "id": "0f8a07da",
   "metadata": {},
   "outputs": [],
   "source": [
    "invoices_df = invoices_df.drop_duplicates()\n",
    "invoices_df[invoices_df.duplicated(keep=False)]"
   ]
  },
  {
   "cell_type": "markdown",
   "id": "271e4249",
   "metadata": {},
   "source": [
    "## 6. Manejo de valores atípicos (outliers)."
   ]
  },
  {
   "cell_type": "markdown",
   "id": "f346e294",
   "metadata": {},
   "source": [
    "#### 6.1. Generación de estadísticos básicos.\n",
    "\n",
    "Utilizaremos ```select_dtypes``` para poder diferenciar tipos de datos a la hora de extraer estadísticos básicos de las variables.\n",
    "\n",
    "https://pandas.pydata.org/docs/reference/api/pandas.DataFrame.select_dtypes.html\n",
    "\n",
    "El método ```describe()``` genera estadísticos básicos para cada variable.\n",
    "\n",
    "https://pandas.pydata.org/docs/reference/api/pandas.DataFrame.describe.html"
   ]
  },
  {
   "cell_type": "markdown",
   "id": "8a927b31",
   "metadata": {},
   "source": [
    "Generación de estadísticos para **tipos numéricos**."
   ]
  },
  {
   "cell_type": "code",
   "execution_count": null,
   "id": "edeaafd0",
   "metadata": {},
   "outputs": [],
   "source": [
    "invoices_df.select_dtypes(include='number').describe()"
   ]
  },
  {
   "cell_type": "markdown",
   "id": "f765e9f3",
   "metadata": {},
   "source": [
    "Aquí valoramos la idoneidad de los datos e identificamos problemas, por ejemplo:\n",
    "* **quantity** y **unit_price** tienen valores negativos que no tienen sentido.\n",
    "* El valor máximo de **quantity** no parece ser posible (habría que confirmar con negocio que no se hacen pedidos tan grandes).\n",
    "\n",
    "Estos valores atípicos posiblemente desvirtúan en gran medida otros como la **media** o los **cuartiles**. En este caso, con variables de tipo numérico suelen realizarse imputaciones a la media, mediana, etc. Estos puntos se verán en otros módulos, puesto que es muy relevante en la implementación de modelos.\n",
    "\n",
    "En ocasiones estas imputaciones se calculan de forma más sofisticada a partir de varias columnas, que identificarían perfiles de facturas para este ejemplo."
   ]
  },
  {
   "cell_type": "markdown",
   "id": "456598ff",
   "metadata": {},
   "source": [
    "Generación de estadísticos para **tipos no numéricos**."
   ]
  },
  {
   "cell_type": "code",
   "execution_count": null,
   "id": "af31fdd2",
   "metadata": {},
   "outputs": [],
   "source": [
    "invoices_df.select_dtypes(exclude='number').describe()"
   ]
  },
  {
   "cell_type": "markdown",
   "id": "f21e1b00",
   "metadata": {},
   "source": [
    "En el caso de las variables no numéricas se revisan principalmente las **modas**, y son las usadas frecuentemente como imputación para nulos."
   ]
  },
  {
   "cell_type": "markdown",
   "id": "42f63388",
   "metadata": {},
   "source": [
    "## 7. Normalización y estandarización."
   ]
  },
  {
   "cell_type": "markdown",
   "id": "1f1d7f07",
   "metadata": {},
   "source": [
    "#### 7.1. Identificación."
   ]
  },
  {
   "cell_type": "markdown",
   "id": "a86e2213",
   "metadata": {},
   "source": [
    "En el caso de columnas de texto utilizaremos métodos de ```str```. En este caso para obtener la longitud de las cadenas tenemos el método ```len()```.\n",
    "\n",
    "https://pandas.pydata.org/docs/reference/api/pandas.Series.str.len.html"
   ]
  },
  {
   "cell_type": "code",
   "execution_count": null,
   "id": "ef261f8b",
   "metadata": {},
   "outputs": [],
   "source": [
    "invoices_df['stock_code'].str.len().sort_values().unique()"
   ]
  },
  {
   "cell_type": "markdown",
   "id": "e41f6dcf",
   "metadata": {},
   "source": [
    "Creamos una función para visualizar los valores con cada longitud para la columna **stock_code**. El método ```unique()``` nos proporciona la lista de valores únicos.\n",
    "\n",
    "https://pandas.pydata.org/docs/reference/api/pandas.Series.unique.html"
   ]
  },
  {
   "cell_type": "code",
   "execution_count": null,
   "id": "30b5b511",
   "metadata": {},
   "outputs": [],
   "source": [
    "def show_col_values_by_len(df, col):\n",
    "    mask = df[col]\n",
    "\n",
    "    for stock_code_len in range(1, 13):\n",
    "        print(\n",
    "            f\"Len: {stock_code_len} --> {df[mask.str.len() == stock_code_len][col].unique()}\"\n",
    "        )\n",
    "        \n",
    "show_col_values_by_len(invoices_df, 'stock_code')"
   ]
  },
  {
   "cell_type": "markdown",
   "id": "94e42c54",
   "metadata": {},
   "source": [
    "Para nuestro ejemplo vamos a suponer que las reglas de negocio que definen los códigos son las siguientes:\n",
    "1. Que los códigos están formados por letras y números. No puede haber símbolos como guiones, espacios, etc.\n",
    "2. Que los caracteres alfabéticos deben estar en mayúsculas.\n",
    "3. Que el que el valor **'DOT'** es un error al introducir el registro en el sistema, y por lo tanto registros que vamos a eliminar.\n",
    "4. Que los valores con tamaño 1, 2 y 4 son códigos antiguos, pero que tienen un código nuevo asociado:\n",
    "    * 'D' = 536641.\n",
    "    * 'M' = 84029G.\n",
    "    * 'S' = 85179A.\n",
    "    * 'B' = 90214U.\n",
    "    * 'C2' = 47591B.\n",
    "    * 'POST' = 79323LP.\n",
    "    * 'PADS' = 79323GR.\n",
    "    * 'CRUK' = 15056BL.\n",
    "5. Que la longitud del código siempre tiene que ser de 11 carácteres, rellenando con 0s a la izquierda los que tengan menos."
   ]
  },
  {
   "cell_type": "markdown",
   "id": "6c4fae73",
   "metadata": {},
   "source": [
    "#### 7.2. Paso 1: Corrección de caracteres alfanuméricos."
   ]
  },
  {
   "cell_type": "markdown",
   "id": "bbe41dc5",
   "metadata": {},
   "source": [
    "Los códigos están formados por letras y números. No puede haber símbolos como guiones, espacios, etc.\n",
    "\n",
    "Utilizamos una expresión regular [\\W_] para reemplazar con ```str.replace()``` los caracteres no alfanuméricos.\n",
    "\n",
    "https://pandas.pydata.org/docs/reference/api/pandas.Series.str.replace.html\n",
    "\n",
    "Podemos validar en algún servicio online https://regex101.com/, https://regexr.com/ con una muestra de nuestros valores:\n",
    "```\n",
    "D\n",
    "M\n",
    "S\n",
    "m\n",
    "B\n",
    "C2\n",
    "DOT\n",
    "CRUK\n",
    "21730\n",
    "85123A\n",
    "85179a\n",
    "90214U\n",
    "BANK CHARGES\n",
    "gift_0001_40\n",
    "gift_0001_50\n",
    "gift_0001_30\n",
    "gift_0001_20\n",
    "gift_0001_10\n",
    "```"
   ]
  },
  {
   "cell_type": "code",
   "execution_count": null,
   "id": "04a99810",
   "metadata": {},
   "outputs": [],
   "source": [
    "invoices_df['stock_code_norm'] = invoices_df['stock_code'].str.replace(pat='[\\W_]', repl='', regex=True)\n",
    "show_col_values_by_len(invoices_df, 'stock_code_norm')"
   ]
  },
  {
   "cell_type": "markdown",
   "id": "48ce3d3b",
   "metadata": {},
   "source": [
    "#### 7.3. Paso 2: Corrección de mayúsculas."
   ]
  },
  {
   "cell_type": "markdown",
   "id": "17067a5f",
   "metadata": {},
   "source": [
    "\n",
    "Todos los caracteres numéricos deben estar en mayúsculas\n",
    "\n",
    "https://pandas.pydata.org/docs/reference/api/pandas.Series.str.upper.html"
   ]
  },
  {
   "cell_type": "code",
   "execution_count": null,
   "id": "ca5e9631",
   "metadata": {},
   "outputs": [],
   "source": [
    "invoices_df['stock_code_norm'] = invoices_df['stock_code_norm'].str.upper()\n",
    "show_col_values_by_len(invoices_df, 'stock_code_norm')"
   ]
  },
  {
   "cell_type": "markdown",
   "id": "6aa6bceb",
   "metadata": {},
   "source": [
    "#### 7.4. Paso 3: Corrección de registros inválidos."
   ]
  },
  {
   "cell_type": "markdown",
   "id": "a428105b",
   "metadata": {},
   "source": [
    "Los registros que tienen **'DOT'** como valor en **'stock_code'** son fruto de un error al introducir el registro en el sistema, y por lo tanto registros que vamos a eliminar."
   ]
  },
  {
   "cell_type": "code",
   "execution_count": null,
   "id": "e487d1a4",
   "metadata": {},
   "outputs": [],
   "source": [
    "invoices_df = invoices_df[invoices_df['stock_code_norm'] != 'DOT']\n",
    "show_col_values_by_len(invoices_df, 'stock_code_norm')"
   ]
  },
  {
   "cell_type": "markdown",
   "id": "023354cf",
   "metadata": {},
   "source": [
    "#### 7.5. Paso 4: Corrección de códigos antiguos."
   ]
  },
  {
   "cell_type": "markdown",
   "id": "dc7796cf",
   "metadata": {},
   "source": [
    "Identificamos registros con códigos antiguos para revisar tras la corrección."
   ]
  },
  {
   "cell_type": "code",
   "execution_count": null,
   "id": "6499fe7b",
   "metadata": {
    "scrolled": true
   },
   "outputs": [],
   "source": [
    "invoices_df[invoices_df['stock_code_norm'].str.len() < 5].head()"
   ]
  },
  {
   "cell_type": "markdown",
   "id": "5080b3e1",
   "metadata": {},
   "source": [
    "Los valores con tamaño 1, 2 y 4 son códigos antiguos, pero que tienen un código nuevo asociado:\n",
    "* 'D' = 536641.\n",
    "* 'M' = 84029G.\n",
    "* 'S' = 85179A.\n",
    "* 'B' = 90214U.\n",
    "* 'C2' = 47591B.\n",
    "* 'POST' = 79323LP.\n",
    "* 'PADS' = 79323GR.\n",
    "* 'CRUK' = 15056BL.\n",
    "\n",
    "Creamos un diccionario con los valores antiguos y nuevos para realizar el mapeo, aplicamos ```map()``` con el diccionario para modificar los valores y revisamos el listado de valores únicos.\n",
    "Utilizamos ```fillna()``` para rellenar con el valor original aquellos registros que no tienen esta problemática.\n",
    "\n",
    "https://pandas.pydata.org/docs/reference/api/pandas.Series.map.html#pandas.Series.map\n",
    "\n",
    "https://pandas.pydata.org/docs/reference/api/pandas.Series.fillna.html"
   ]
  },
  {
   "cell_type": "code",
   "execution_count": null,
   "id": "0e57edf4",
   "metadata": {},
   "outputs": [],
   "source": [
    "new_codes = {\n",
    "    'D': '536641',\n",
    "    'M': '84029G',\n",
    "    'S': '85179A',\n",
    "    'B': '90214U',\n",
    "    'C2': '47591B',\n",
    "    'POST': '79323LP',\n",
    "    'PADS': '79323GR',\n",
    "    'CRUK': '15056BL'\n",
    "}\n",
    "\n",
    "invoices_df['stock_code_norm'] = invoices_df['stock_code_norm'].map(new_codes).fillna(invoices_df['stock_code_norm'])\n",
    "show_col_values_by_len(invoices_df, 'stock_code_norm')"
   ]
  },
  {
   "cell_type": "markdown",
   "id": "b471e6e9",
   "metadata": {},
   "source": [
    "Si revisamos un registro concreto donde sabemos que había un valor de stock code antiguo, comprobamos que se ha hecho el cambio correctamente.\n",
    "\n",
    "https://pandas.pydata.org/docs/reference/api/pandas.DataFrame.iloc.html"
   ]
  },
  {
   "cell_type": "code",
   "execution_count": null,
   "id": "655f612c",
   "metadata": {},
   "outputs": [],
   "source": [
    "invoices_df.iloc[[45]]"
   ]
  },
  {
   "cell_type": "markdown",
   "id": "cb828d04",
   "metadata": {},
   "source": [
    "#### 7.6. Paso 5: Normalizar el tamaño del código."
   ]
  },
  {
   "cell_type": "markdown",
   "id": "b9958efc",
   "metadata": {},
   "source": [
    "La longitud del código siempre tiene que ser de 11 carácteres, rellenando con 0s a la izquierda los que tengan menos. Utilizamos ```str.zfill()``` para rellenar estos valores.\n",
    "\n",
    "https://pandas.pydata.org/docs/reference/api/pandas.Series.str.zfill.html"
   ]
  },
  {
   "cell_type": "code",
   "execution_count": null,
   "id": "868acea5",
   "metadata": {},
   "outputs": [],
   "source": [
    "invoices_df['stock_code_norm'] = invoices_df['stock_code_norm'].str.zfill(11)\n",
    "invoices_df.head()"
   ]
  },
  {
   "cell_type": "code",
   "execution_count": null,
   "id": "bc4c43b8",
   "metadata": {},
   "outputs": [],
   "source": [
    "show_col_values_by_len(invoices_df, 'stock_code_norm')"
   ]
  },
  {
   "cell_type": "markdown",
   "id": "59f23678",
   "metadata": {},
   "source": [
    "Eliminamos la columna original del código por la normalizada."
   ]
  },
  {
   "cell_type": "code",
   "execution_count": null,
   "id": "051ec37c",
   "metadata": {},
   "outputs": [],
   "source": [
    "invoices_df['stock_code'] = invoices_df['stock_code_norm']\n",
    "invoices_df.drop('stock_code_norm', axis=1, inplace=True)\n",
    "invoices_df.head()"
   ]
  },
  {
   "cell_type": "markdown",
   "id": "387397f3",
   "metadata": {},
   "source": [
    "## 8. Creación de nuevas columnas\n"
   ]
  },
  {
   "cell_type": "markdown",
   "id": "1c7cd478",
   "metadata": {},
   "source": [
    "Necesitamos generar una columna con el precio total de cada concepto de la factura."
   ]
  },
  {
   "cell_type": "code",
   "execution_count": null,
   "id": "cd490b7b",
   "metadata": {},
   "outputs": [],
   "source": [
    "invoices_df.head()"
   ]
  },
  {
   "cell_type": "code",
   "execution_count": null,
   "id": "e2982bbc",
   "metadata": {},
   "outputs": [],
   "source": [
    "invoices_df['total_price'] = invoices_df['quantity'] * invoices_df['unit_ price']\n",
    "invoices_df.head()"
   ]
  },
  {
   "cell_type": "markdown",
   "id": "ab1e72b9",
   "metadata": {},
   "source": [
    "## 9. Herramientas de perfilado de datos.\n",
    "Existen algunos paquetes de Python que nos ofrecen un perfilado de los datos de forma automática como **ydata_profiling**.\n",
    "\n",
    "https://docs.profiling.ydata.ai/latest/"
   ]
  },
  {
   "cell_type": "code",
   "execution_count": null,
   "id": "09d870d2",
   "metadata": {},
   "outputs": [],
   "source": [
    "\n",
    "# Instalar con pip install -U ydata-profiling\n",
    "\n",
    "from ydata_profiling import ProfileReport\n",
    "\n",
    "profile = ProfileReport(invoices_df, title=\"Profiling Report\")\n",
    "\n",
    "# Reporte en html\n",
    "profile.to_file(\"../reports/invoices_report.html\")\n",
    "\n",
    "# Reporte en embebido en notebook\n",
    "profile.to_notebook_iframe()"
   ]
  }
 ],
 "metadata": {
  "kernelspec": {
   "display_name": "Python 3 (ipykernel)",
   "language": "python",
   "name": "python3"
  },
  "language_info": {
   "codemirror_mode": {
    "name": "ipython",
    "version": 3
   },
   "file_extension": ".py",
   "mimetype": "text/x-python",
   "name": "python",
   "nbconvert_exporter": "python",
   "pygments_lexer": "ipython3",
   "version": "3.10.13"
  }
 },
 "nbformat": 4,
 "nbformat_minor": 5
}
