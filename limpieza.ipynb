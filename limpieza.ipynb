{
 "cells": [
  {
   "cell_type": "markdown",
   "id": "2b44a8c9",
   "metadata": {},
   "source": [
    "# Limpieza de datos"
   ]
  },
  {
   "cell_type": "markdown",
   "id": "6d59549e",
   "metadata": {},
   "source": [
    "## 1. Adquisición de datos a partir de ficheros"
   ]
  },
  {
   "cell_type": "markdown",
   "id": "cabc4292",
   "metadata": {},
   "source": [
    "### 1.1 Exploración inicial."
   ]
  },
  {
   "cell_type": "markdown",
   "id": "31efd0a0",
   "metadata": {},
   "source": [
    "### 1.2 Manejo de nulos."
   ]
  },
  {
   "cell_type": "markdown",
   "id": "44508c44",
   "metadata": {},
   "source": [
    "### 1.3 Manejo de duplicados."
   ]
  },
  {
   "cell_type": "markdown",
   "id": "271e4249",
   "metadata": {},
   "source": [
    "### 1.4 Manejo de valores atípicos (outliers)."
   ]
  },
  {
   "cell_type": "markdown",
   "id": "42f63388",
   "metadata": {},
   "source": [
    "### 1.5 Normalización y estandarización."
   ]
  },
  {
   "cell_type": "markdown",
   "id": "cd4b2c60",
   "metadata": {},
   "source": [
    "### 1.6 Renombrado de columnas"
   ]
  },
  {
   "cell_type": "markdown",
   "id": "5080b3e1",
   "metadata": {},
   "source": []
  },
  {
   "cell_type": "markdown",
   "id": "387397f3",
   "metadata": {},
   "source": [
    "### Creación de nuevas columnas\n"
   ]
  },
  {
   "cell_type": "markdown",
   "id": "b5af5d8e",
   "metadata": {},
   "source": [
    "### Conversión de tipos de datos"
   ]
  },
  {
   "cell_type": "code",
   "execution_count": 26,
   "id": "49adec32",
   "metadata": {},
   "outputs": [
    {
     "name": "stdout",
     "output_type": "stream",
     "text": [
      "  InvoiceNo StockCode                          Description  Quantity   \n",
      "0    536365    85123A   WHITE HANGING HEART T-LIGHT HOLDER         6  \\\n",
      "1    536365     71053                  WHITE METAL LANTERN         6   \n",
      "2    536365    84406B       CREAM CUPID HEARTS COAT HANGER         8   \n",
      "3    536365    84029G  KNITTED UNION FLAG HOT WATER BOTTLE         6   \n",
      "4    536365    84029E       RED WOOLLY HOTTIE WHITE HEART.         6   \n",
      "\n",
      "      InvoiceDate  UnitPrice  CustomerID         Country  \n",
      "0  12/1/2010 8:26       2.55     17850.0  United Kingdom  \n",
      "1  12/1/2010 8:26       3.39     17850.0  United Kingdom  \n",
      "2  12/1/2010 8:26       2.75     17850.0  United Kingdom  \n",
      "3  12/1/2010 8:26       3.39     17850.0  United Kingdom  \n",
      "4  12/1/2010 8:26       3.39     17850.0  United Kingdom  \n"
     ]
    }
   ],
   "source": []
  }
 ],
 "metadata": {
  "kernelspec": {
   "display_name": "Python 3",
   "language": "python",
   "name": "python3"
  },
  "language_info": {
   "codemirror_mode": {
    "name": "ipython",
    "version": 3
   },
   "file_extension": ".py",
   "mimetype": "text/x-python",
   "name": "python",
   "nbconvert_exporter": "python",
   "pygments_lexer": "ipython3",
   "version": "3.11.5"
  }
 },
 "nbformat": 4,
 "nbformat_minor": 5
}
